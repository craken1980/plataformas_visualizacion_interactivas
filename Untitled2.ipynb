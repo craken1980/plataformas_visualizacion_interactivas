{
 "cells": [
  {
   "cell_type": "code",
   "execution_count": 5,
   "id": "d26c1e39",
   "metadata": {},
   "outputs": [],
   "source": [
    "cel_file = '2017_accidents_tipus_gu_bcn_.xlsx'"
   ]
  },
  {
   "cell_type": "code",
   "execution_count": 6,
   "id": "b827c6fe",
   "metadata": {},
   "outputs": [],
   "source": [
    "%matplotlib inline\n",
    "import matplotlib.pyplot as plt"
   ]
  },
  {
   "cell_type": "code",
   "execution_count": 7,
   "id": "ff118f88",
   "metadata": {},
   "outputs": [],
   "source": [
    "import pandas as pd"
   ]
  },
  {
   "cell_type": "code",
   "execution_count": 8,
   "id": "e951c1dc",
   "metadata": {},
   "outputs": [],
   "source": [
    "accidentes_tipos = pd.read_csv('2017_accidents_tipus_gu_bcn_.csv')"
   ]
  },
  {
   "cell_type": "code",
   "execution_count": 9,
   "id": "3e540690",
   "metadata": {},
   "outputs": [
    {
     "data": {
      "text/html": [
       "<div>\n",
       "<style scoped>\n",
       "    .dataframe tbody tr th:only-of-type {\n",
       "        vertical-align: middle;\n",
       "    }\n",
       "\n",
       "    .dataframe tbody tr th {\n",
       "        vertical-align: top;\n",
       "    }\n",
       "\n",
       "    .dataframe thead th {\n",
       "        text-align: right;\n",
       "    }\n",
       "</style>\n",
       "<table border=\"1\" class=\"dataframe\">\n",
       "  <thead>\n",
       "    <tr style=\"text-align: right;\">\n",
       "      <th></th>\n",
       "      <th>Numero_expedient</th>\n",
       "      <th>Codi_districte</th>\n",
       "      <th>Nom_districte</th>\n",
       "      <th>Codi_barri</th>\n",
       "      <th>Nom_barri</th>\n",
       "      <th>Codi_carrer</th>\n",
       "      <th>Nom_carrer</th>\n",
       "      <th>Num_postal_caption</th>\n",
       "      <th>Descripcio_dia_setmana</th>\n",
       "      <th>Dia_setmana</th>\n",
       "      <th>...</th>\n",
       "      <th>Mes_any</th>\n",
       "      <th>Nom_mes</th>\n",
       "      <th>Dia_mes</th>\n",
       "      <th>Hora_dia</th>\n",
       "      <th>Descripcio_torn</th>\n",
       "      <th>Descripcio_tipus_accident</th>\n",
       "      <th>Coordenada_UTM_X</th>\n",
       "      <th>Coordenada_UTM_Y</th>\n",
       "      <th>Longitud</th>\n",
       "      <th>Latitud</th>\n",
       "    </tr>\n",
       "  </thead>\n",
       "  <tbody>\n",
       "    <tr>\n",
       "      <th>0</th>\n",
       "      <td>2017S009418</td>\n",
       "      <td>-1</td>\n",
       "      <td>Desconegut</td>\n",
       "      <td>-1</td>\n",
       "      <td>Desconegut</td>\n",
       "      <td>-1</td>\n",
       "      <td>Francesc Ferrer i Guàrdia / Sant Jordi        ...</td>\n",
       "      <td>Desconegut</td>\n",
       "      <td>Dilluns</td>\n",
       "      <td>Dl</td>\n",
       "      <td>...</td>\n",
       "      <td>11</td>\n",
       "      <td>Novembre</td>\n",
       "      <td>13</td>\n",
       "      <td>16</td>\n",
       "      <td>Tarda</td>\n",
       "      <td>Abast</td>\n",
       "      <td>428572.07</td>\n",
       "      <td>4580031.06</td>\n",
       "      <td>2.144821</td>\n",
       "      <td>41.366779</td>\n",
       "    </tr>\n",
       "    <tr>\n",
       "      <th>1</th>\n",
       "      <td>2017S008852</td>\n",
       "      <td>-1</td>\n",
       "      <td>Desconegut</td>\n",
       "      <td>-1</td>\n",
       "      <td>Desconegut</td>\n",
       "      <td>-1</td>\n",
       "      <td>Valldaura                                     ...</td>\n",
       "      <td>284-286</td>\n",
       "      <td>Dijous</td>\n",
       "      <td>Dj</td>\n",
       "      <td>...</td>\n",
       "      <td>10</td>\n",
       "      <td>Octubre</td>\n",
       "      <td>26</td>\n",
       "      <td>7</td>\n",
       "      <td>Matí</td>\n",
       "      <td>Col.lisió fronto-lateral</td>\n",
       "      <td>431806.60</td>\n",
       "      <td>4588044.41</td>\n",
       "      <td>2.182588</td>\n",
       "      <td>41.439233</td>\n",
       "    </tr>\n",
       "    <tr>\n",
       "      <th>2</th>\n",
       "      <td>2017S001023</td>\n",
       "      <td>10</td>\n",
       "      <td>Sant Martí</td>\n",
       "      <td>64</td>\n",
       "      <td>el Camp de l'Arpa del Clot</td>\n",
       "      <td>209900</td>\n",
       "      <td>NAVAS DE TOLOSA / Av Meridiana                ...</td>\n",
       "      <td>0203 0205</td>\n",
       "      <td>Dimarts</td>\n",
       "      <td>Dm</td>\n",
       "      <td>...</td>\n",
       "      <td>2</td>\n",
       "      <td>Febrer</td>\n",
       "      <td>7</td>\n",
       "      <td>15</td>\n",
       "      <td>Tarda</td>\n",
       "      <td>Col.lisió lateral</td>\n",
       "      <td>432116.48</td>\n",
       "      <td>4585382.72</td>\n",
       "      <td>2.186591</td>\n",
       "      <td>41.415280</td>\n",
       "    </tr>\n",
       "    <tr>\n",
       "      <th>3</th>\n",
       "      <td>2017S009198</td>\n",
       "      <td>10</td>\n",
       "      <td>Sant Martí</td>\n",
       "      <td>64</td>\n",
       "      <td>el Camp de l'Arpa del Clot</td>\n",
       "      <td>346402</td>\n",
       "      <td>Trinxant / Ruiz de Padrón                     ...</td>\n",
       "      <td>0090 0090</td>\n",
       "      <td>Dimarts</td>\n",
       "      <td>Dm</td>\n",
       "      <td>...</td>\n",
       "      <td>11</td>\n",
       "      <td>Novembre</td>\n",
       "      <td>7</td>\n",
       "      <td>14</td>\n",
       "      <td>Tarda</td>\n",
       "      <td>Col.lisió fronto-lateral</td>\n",
       "      <td>431940.75</td>\n",
       "      <td>4585401.48</td>\n",
       "      <td>2.184483</td>\n",
       "      <td>41.415436</td>\n",
       "    </tr>\n",
       "    <tr>\n",
       "      <th>4</th>\n",
       "      <td>2017S006546</td>\n",
       "      <td>10</td>\n",
       "      <td>Sant Martí</td>\n",
       "      <td>64</td>\n",
       "      <td>el Camp de l'Arpa del Clot</td>\n",
       "      <td>297001</td>\n",
       "      <td>Sant Antoni Maria Claret                      ...</td>\n",
       "      <td>0330 0332</td>\n",
       "      <td>Dijous</td>\n",
       "      <td>Dj</td>\n",
       "      <td>...</td>\n",
       "      <td>7</td>\n",
       "      <td>Juliol</td>\n",
       "      <td>27</td>\n",
       "      <td>14</td>\n",
       "      <td>Tarda</td>\n",
       "      <td>Abast</td>\n",
       "      <td>431537.32</td>\n",
       "      <td>4585363.11</td>\n",
       "      <td>2.179666</td>\n",
       "      <td>41.415060</td>\n",
       "    </tr>\n",
       "  </tbody>\n",
       "</table>\n",
       "<p>5 rows × 22 columns</p>\n",
       "</div>"
      ],
      "text/plain": [
       "  Numero_expedient  Codi_districte Nom_districte  Codi_barri  \\\n",
       "0  2017S009418                  -1    Desconegut          -1   \n",
       "1  2017S008852                  -1    Desconegut          -1   \n",
       "2  2017S001023                  10    Sant Martí          64   \n",
       "3  2017S009198                  10    Sant Martí          64   \n",
       "4  2017S006546                  10    Sant Martí          64   \n",
       "\n",
       "                    Nom_barri  Codi_carrer  \\\n",
       "0                  Desconegut           -1   \n",
       "1                  Desconegut           -1   \n",
       "2  el Camp de l'Arpa del Clot       209900   \n",
       "3  el Camp de l'Arpa del Clot       346402   \n",
       "4  el Camp de l'Arpa del Clot       297001   \n",
       "\n",
       "                                          Nom_carrer Num_postal_caption  \\\n",
       "0  Francesc Ferrer i Guàrdia / Sant Jordi        ...         Desconegut   \n",
       "1  Valldaura                                     ...         284-286      \n",
       "2  NAVAS DE TOLOSA / Av Meridiana                ...          0203 0205   \n",
       "3  Trinxant / Ruiz de Padrón                     ...          0090 0090   \n",
       "4  Sant Antoni Maria Claret                      ...          0330 0332   \n",
       "\n",
       "  Descripcio_dia_setmana Dia_setmana  ... Mes_any   Nom_mes  Dia_mes Hora_dia  \\\n",
       "0                Dilluns          Dl  ...      11  Novembre       13       16   \n",
       "1                 Dijous          Dj  ...      10   Octubre       26        7   \n",
       "2                Dimarts          Dm  ...       2    Febrer        7       15   \n",
       "3                Dimarts          Dm  ...      11  Novembre        7       14   \n",
       "4                 Dijous          Dj  ...       7    Juliol       27       14   \n",
       "\n",
       "   Descripcio_torn  Descripcio_tipus_accident Coordenada_UTM_X  \\\n",
       "0            Tarda                      Abast        428572.07   \n",
       "1             Matí   Col.lisió fronto-lateral        431806.60   \n",
       "2            Tarda          Col.lisió lateral        432116.48   \n",
       "3            Tarda   Col.lisió fronto-lateral        431940.75   \n",
       "4            Tarda                      Abast        431537.32   \n",
       "\n",
       "  Coordenada_UTM_Y  Longitud    Latitud  \n",
       "0       4580031.06  2.144821  41.366779  \n",
       "1       4588044.41  2.182588  41.439233  \n",
       "2       4585382.72  2.186591  41.415280  \n",
       "3       4585401.48  2.184483  41.415436  \n",
       "4       4585363.11  2.179666  41.415060  \n",
       "\n",
       "[5 rows x 22 columns]"
      ]
     },
     "execution_count": 9,
     "metadata": {},
     "output_type": "execute_result"
    }
   ],
   "source": [
    "accidentes_tipos.head(5)"
   ]
  },
  {
   "cell_type": "code",
   "execution_count": 10,
   "id": "31e31bc7",
   "metadata": {},
   "outputs": [
    {
     "data": {
      "image/png": "[encoded data removed]",
      "text/plain": [
       "<Figure size 640x480 with 1 Axes>"
      ]
     },
     "metadata": {},
     "output_type": "display_data"
    }
   ],
   "source": [
    "fg1=accidentes_tipos['Hora_dia'].plot(kind='hist',bins=100,color=['gray'])"
   ]
  },
  {
   "cell_type": "code",
   "execution_count": 11,
   "id": "36ed7dd0",
   "metadata": {},
   "outputs": [],
   "source": [
    "contador = accidentes_tipos['Hora_dia'].value_counts()"
   ]
  },
  {
   "cell_type": "code",
   "execution_count": 12,
   "id": "07d914bb",
   "metadata": {},
   "outputs": [
    {
     "data": {
      "text/plain": [
       "14    773\n",
       "13    764\n",
       "18    722\n",
       "15    710\n",
       "9     688\n",
       "Name: Hora_dia, dtype: int64"
      ]
     },
     "execution_count": 12,
     "metadata": {},
     "output_type": "execute_result"
    }
   ],
   "source": [
    "contador.head(5)"
   ]
  },
  {
   "cell_type": "code",
   "execution_count": 14,
   "id": "0a4761e5",
   "metadata": {},
   "outputs": [
    {
     "data": {
      "image/png": "[encoded data removed]",
      "text/plain": [
       "<Figure size 640x480 with 1 Axes>"
      ]
     },
     "metadata": {},
     "output_type": "display_data"
    }
   ],
   "source": [
    "fig1=accidentes_tipos['Dia_mes'].plot(kind='hist',bins=100,color=['black'])"
   ]
  },
  {
   "cell_type": "code",
   "execution_count": 15,
   "id": "99341425",
   "metadata": {},
   "outputs": [
    {
     "data": {
      "text/plain": [
       "20    420\n",
       "13    392\n",
       "2     392\n",
       "16    392\n",
       "18    388\n",
       "4     387\n",
       "9     386\n",
       "21    380\n",
       "28    378\n",
       "17    377\n",
       "27    376\n",
       "10    375\n",
       "5     373\n",
       "24    372\n",
       "30    361\n",
       "22    360\n",
       "19    356\n",
       "15    354\n",
       "3     350\n",
       "14    347\n",
       "7     346\n",
       "26    340\n",
       "12    339\n",
       "6     334\n",
       "8     334\n",
       "11    330\n",
       "23    321\n",
       "1     314\n",
       "25    307\n",
       "29    301\n",
       "31    227\n",
       "Name: Dia_mes, dtype: int64"
      ]
     },
     "execution_count": 15,
     "metadata": {},
     "output_type": "execute_result"
    }
   ],
   "source": [
    "accidentes_tipos['Dia_mes'].value_counts()"
   ]
  },
  {
   "cell_type": "code",
   "execution_count": null,
   "id": "1e5939ff",
   "metadata": {},
   "outputs": [],
   "source": []
  }
 ],
 "metadata": {
  "kernelspec": {
   "display_name": "Python 3 (ipykernel)",
   "language": "python",
   "name": "python3"
  },
  "language_info": {
   "codemirror_mode": {
    "name": "ipython",
    "version": 3
   },
   "file_extension": ".py",
   "mimetype": "text/x-python",
   "name": "python",
   "nbconvert_exporter": "python",
   "pygments_lexer": "ipython3",
   "version": "3.10.6"
  }
 },
 "nbformat": 4,
 "nbformat_minor": 5
}
